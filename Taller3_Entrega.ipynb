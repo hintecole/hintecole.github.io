{
 "cells": [
  {
   "cell_type": "markdown",
   "metadata": {},
   "source": [
    "### RESOLUCION TALLER 3"
   ]
  },
  {
   "cell_type": "markdown",
   "metadata": {},
   "source": [
    "### Integrantes:\n",
    "### - ELIZABETH NICOLE LINARES CAMUS (202116312)"
   ]
  },
  {
   "cell_type": "code",
   "execution_count": 1,
   "metadata": {},
   "outputs": [],
   "source": [
    "import pandas as pd\n",
    "import numpy as np\n",
    "import os\n",
    "from scipy import stats\n",
    "import patsy\n",
    "import statsmodels.api as sm\n",
    "import matplotlib.pyplot as plt\n",
    "from sklearn import linear_model"
   ]
  },
  {
   "cell_type": "markdown",
   "metadata": {},
   "source": [
    "### 1. Empezamos con la unión de bases de datos"
   ]
  },
  {
   "cell_type": "code",
   "execution_count": 2,
   "metadata": {},
   "outputs": [],
   "source": [
    "educacion=pd.read_stata(\"PANEL_DE_EDUCACION(2019).dta\")\n",
    "educacion['año']=educacion.ano.dt.year\n",
    "educacion2005=educacion.loc[educacion['año']==2005]"
   ]
  },
  {
   "cell_type": "code",
   "execution_count": 3,
   "metadata": {},
   "outputs": [],
   "source": [
    "salud=pd.read_stata(\"PANEL_SALUD_Y_SERVICIOS.dta\")\n",
    "salud['año'] = salud['ano'].astype(int)\n",
    "salud2005=salud.loc[salud['año']==2005]"
   ]
  },
  {
   "cell_type": "code",
   "execution_count": 4,
   "metadata": {},
   "outputs": [],
   "source": [
    "conflicto=pd.read_stata(\"PANEL_CONFLICTO_Y_VIOLENCIA(2020).dta\")\n",
    "conflicto['año'] = conflicto['ano'].astype(int)\n",
    "conflicto=conflicto.drop(columns=['ano'])\n",
    "conflicto2005=conflicto.loc[conflicto['año']==2005]"
   ]
  },
  {
   "cell_type": "code",
   "execution_count": 5,
   "metadata": {},
   "outputs": [],
   "source": [
    "Base1=pd.merge(educacion2005,salud2005, on=[\"codmpio\"])\n",
    "BaseTotal=pd.merge(Base1, conflicto2005, on=['codmpio'])"
   ]
  },
  {
   "cell_type": "code",
   "execution_count": 7,
   "metadata": {},
   "outputs": [
    {
     "data": {
      "text/html": [
       "<div>\n",
       "<style scoped>\n",
       "    .dataframe tbody tr th:only-of-type {\n",
       "        vertical-align: middle;\n",
       "    }\n",
       "\n",
       "    .dataframe tbody tr th {\n",
       "        vertical-align: top;\n",
       "    }\n",
       "\n",
       "    .dataframe thead th {\n",
       "        text-align: right;\n",
       "    }\n",
       "</style>\n",
       "<table border=\"1\" class=\"dataframe\">\n",
       "  <thead>\n",
       "    <tr style=\"text-align: right;\">\n",
       "      <th></th>\n",
       "      <th>codmpio</th>\n",
       "      <th>ano_x</th>\n",
       "      <th>pobsimple_primaria</th>\n",
       "      <th>pobsimple_secund</th>\n",
       "      <th>asistesc</th>\n",
       "      <th>asistesc_5_a_24</th>\n",
       "      <th>librosleidosprom</th>\n",
       "      <th>anos_est_mun</th>\n",
       "      <th>per_alfa</th>\n",
       "      <th>ind_alfa</th>\n",
       "      <th>...</th>\n",
       "      <th>desplazados_recepcion</th>\n",
       "      <th>hurto_pers</th>\n",
       "      <th>hurto_resi</th>\n",
       "      <th>hurto_auto</th>\n",
       "      <th>hurto_moto</th>\n",
       "      <th>hurto_comer</th>\n",
       "      <th>hurto_entfin</th>\n",
       "      <th>hurto_vehi</th>\n",
       "      <th>hurto</th>\n",
       "      <th>año</th>\n",
       "    </tr>\n",
       "  </thead>\n",
       "  <tbody>\n",
       "    <tr>\n",
       "      <th>0</th>\n",
       "      <td>5001.0</td>\n",
       "      <td>2005-01-01</td>\n",
       "      <td>170779.0</td>\n",
       "      <td>232300.0</td>\n",
       "      <td>28.395739</td>\n",
       "      <td>64.524254</td>\n",
       "      <td>1.13</td>\n",
       "      <td>10.181974</td>\n",
       "      <td>1527700.0</td>\n",
       "      <td>92.226685</td>\n",
       "      <td>...</td>\n",
       "      <td>19880.0</td>\n",
       "      <td>3166.0</td>\n",
       "      <td>530.0</td>\n",
       "      <td>1349.0</td>\n",
       "      <td>1359.0</td>\n",
       "      <td>714.0</td>\n",
       "      <td>9.0</td>\n",
       "      <td>2708.0</td>\n",
       "      <td>7118.0</td>\n",
       "      <td>2005</td>\n",
       "    </tr>\n",
       "    <tr>\n",
       "      <th>1</th>\n",
       "      <td>5002.0</td>\n",
       "      <td>2005-01-01</td>\n",
       "      <td>1996.0</td>\n",
       "      <td>2352.0</td>\n",
       "      <td>22.539375</td>\n",
       "      <td>54.017979</td>\n",
       "      <td>0.39</td>\n",
       "      <td>6.274856</td>\n",
       "      <td>11900.0</td>\n",
       "      <td>88.213493</td>\n",
       "      <td>...</td>\n",
       "      <td>320.0</td>\n",
       "      <td>3.0</td>\n",
       "      <td>4.0</td>\n",
       "      <td>0.0</td>\n",
       "      <td>0.0</td>\n",
       "      <td>2.0</td>\n",
       "      <td>0.0</td>\n",
       "      <td>0.0</td>\n",
       "      <td>9.0</td>\n",
       "      <td>2005</td>\n",
       "    </tr>\n",
       "    <tr>\n",
       "      <th>2</th>\n",
       "      <td>5004.0</td>\n",
       "      <td>2005-01-01</td>\n",
       "      <td>266.0</td>\n",
       "      <td>318.0</td>\n",
       "      <td>29.400293</td>\n",
       "      <td>63.539192</td>\n",
       "      <td>0.75</td>\n",
       "      <td>7.427028</td>\n",
       "      <td>1364.0</td>\n",
       "      <td>92.852280</td>\n",
       "      <td>...</td>\n",
       "      <td>13.0</td>\n",
       "      <td>0.0</td>\n",
       "      <td>0.0</td>\n",
       "      <td>0.0</td>\n",
       "      <td>0.0</td>\n",
       "      <td>0.0</td>\n",
       "      <td>0.0</td>\n",
       "      <td>0.0</td>\n",
       "      <td>0.0</td>\n",
       "      <td>2005</td>\n",
       "    </tr>\n",
       "    <tr>\n",
       "      <th>3</th>\n",
       "      <td>5021.0</td>\n",
       "      <td>2005-01-01</td>\n",
       "      <td>366.0</td>\n",
       "      <td>426.0</td>\n",
       "      <td>28.191339</td>\n",
       "      <td>60.892387</td>\n",
       "      <td>0.79</td>\n",
       "      <td>7.065300</td>\n",
       "      <td>2358.0</td>\n",
       "      <td>92.181389</td>\n",
       "      <td>...</td>\n",
       "      <td>88.0</td>\n",
       "      <td>4.0</td>\n",
       "      <td>1.0</td>\n",
       "      <td>0.0</td>\n",
       "      <td>1.0</td>\n",
       "      <td>0.0</td>\n",
       "      <td>0.0</td>\n",
       "      <td>1.0</td>\n",
       "      <td>6.0</td>\n",
       "      <td>2005</td>\n",
       "    </tr>\n",
       "    <tr>\n",
       "      <th>4</th>\n",
       "      <td>5030.0</td>\n",
       "      <td>2005-01-01</td>\n",
       "      <td>2951.0</td>\n",
       "      <td>3423.0</td>\n",
       "      <td>25.729763</td>\n",
       "      <td>58.751202</td>\n",
       "      <td>0.50</td>\n",
       "      <td>7.671256</td>\n",
       "      <td>17074.0</td>\n",
       "      <td>91.061333</td>\n",
       "      <td>...</td>\n",
       "      <td>62.0</td>\n",
       "      <td>3.0</td>\n",
       "      <td>1.0</td>\n",
       "      <td>0.0</td>\n",
       "      <td>1.0</td>\n",
       "      <td>7.0</td>\n",
       "      <td>0.0</td>\n",
       "      <td>1.0</td>\n",
       "      <td>12.0</td>\n",
       "      <td>2005</td>\n",
       "    </tr>\n",
       "  </tbody>\n",
       "</table>\n",
       "<p>5 rows × 986 columns</p>\n",
       "</div>"
      ],
      "text/plain": [
       "   codmpio      ano_x  pobsimple_primaria  pobsimple_secund   asistesc  \\\n",
       "0   5001.0 2005-01-01            170779.0          232300.0  28.395739   \n",
       "1   5002.0 2005-01-01              1996.0            2352.0  22.539375   \n",
       "2   5004.0 2005-01-01               266.0             318.0  29.400293   \n",
       "3   5021.0 2005-01-01               366.0             426.0  28.191339   \n",
       "4   5030.0 2005-01-01              2951.0            3423.0  25.729763   \n",
       "\n",
       "   asistesc_5_a_24  librosleidosprom  anos_est_mun   per_alfa   ind_alfa  ...  \\\n",
       "0        64.524254              1.13     10.181974  1527700.0  92.226685  ...   \n",
       "1        54.017979              0.39      6.274856    11900.0  88.213493  ...   \n",
       "2        63.539192              0.75      7.427028     1364.0  92.852280  ...   \n",
       "3        60.892387              0.79      7.065300     2358.0  92.181389  ...   \n",
       "4        58.751202              0.50      7.671256    17074.0  91.061333  ...   \n",
       "\n",
       "   desplazados_recepcion  hurto_pers  hurto_resi  hurto_auto  hurto_moto  \\\n",
       "0                19880.0      3166.0       530.0      1349.0      1359.0   \n",
       "1                  320.0         3.0         4.0         0.0         0.0   \n",
       "2                   13.0         0.0         0.0         0.0         0.0   \n",
       "3                   88.0         4.0         1.0         0.0         1.0   \n",
       "4                   62.0         3.0         1.0         0.0         1.0   \n",
       "\n",
       "   hurto_comer  hurto_entfin  hurto_vehi   hurto   año  \n",
       "0        714.0           9.0      2708.0  7118.0  2005  \n",
       "1          2.0           0.0         0.0     9.0  2005  \n",
       "2          0.0           0.0         0.0     0.0  2005  \n",
       "3          0.0           0.0         1.0     6.0  2005  \n",
       "4          7.0           0.0         1.0    12.0  2005  \n",
       "\n",
       "[5 rows x 986 columns]"
      ]
     },
     "execution_count": 7,
     "metadata": {},
     "output_type": "execute_result"
    }
   ],
   "source": [
    "BaseTotal.head(5)"
   ]
  },
  {
   "cell_type": "code",
   "execution_count": 8,
   "metadata": {},
   "outputs": [
    {
     "data": {
      "text/plain": [
       "Index(['codmpio', 'ano_x', 'pobsimple_primaria', 'pobsimple_secund',\n",
       "       'asistesc', 'asistesc_5_a_24', 'librosleidosprom', 'anos_est_mun',\n",
       "       'per_alfa', 'ind_alfa',\n",
       "       ...\n",
       "       'desplazados_recepcion', 'hurto_pers', 'hurto_resi', 'hurto_auto',\n",
       "       'hurto_moto', 'hurto_comer', 'hurto_entfin', 'hurto_vehi', 'hurto',\n",
       "       'año'],\n",
       "      dtype='object', length=986)"
      ]
     },
     "execution_count": 8,
     "metadata": {},
     "output_type": "execute_result"
    }
   ],
   "source": [
    "BaseTotal.columns"
   ]
  },
  {
   "cell_type": "markdown",
   "metadata": {},
   "source": [
    "### 1.2 Continuamos con las estadisticas descriptivas"
   ]
  },
  {
   "cell_type": "markdown",
   "metadata": {},
   "source": [
    "En este caso, estudiaremos dos modelos, el primero es un modelo mco que estudiará cuál es el efecto de la tasa de mortalidad infantil sobre la asistencia en educación. Con este primer modelo se quiere ver como el nivel de salud afecta a la educación en un municipio. "
   ]
  },
  {
   "cell_type": "markdown",
   "metadata": {},
   "source": [
    "Para el segundo modelo, será un logit que estudiará como la violencia en un municipio puede afectar el nivel de educación en un municipio. Para esto se creará una dummy 0 si la asistencia a la educación no es mayor al promedio y 1 si sí lo es. Y como variables explicativas se presentarán los ataques hacia la comunidad. "
   ]
  },
  {
   "cell_type": "markdown",
   "metadata": {},
   "source": [
    "Se eligió el año 2005 por la disponibilidad de datos"
   ]
  },
  {
   "cell_type": "code",
   "execution_count": 9,
   "metadata": {},
   "outputs": [
    {
     "data": {
      "image/png": "[encoded data removed]",
      "text/plain": [
       "<Figure size 432x288 with 1 Axes>"
      ]
     },
     "metadata": {
      "needs_background": "light"
     },
     "output_type": "display_data"
    }
   ],
   "source": [
    "#Histograma TMI\n",
    "\n",
    "plt.hist(BaseTotal.TMI,bins=50,density=True);\n",
    "plt.title('Histograma TMI')\n",
    "plt.savefig('tmi.png')\n",
    "plt.show();"
   ]
  },
  {
   "cell_type": "code",
   "execution_count": 10,
   "metadata": {},
   "outputs": [
    {
     "data": {
      "image/png": "[encoded data removed]",
      "text/plain": [
       "<Figure size 432x288 with 1 Axes>"
      ]
     },
     "metadata": {
      "needs_background": "light"
     },
     "output_type": "display_data"
    }
   ],
   "source": [
    "#Histograma Asistencia\n",
    "\n",
    "plt.hist(BaseTotal.asistesc_5_a_24,bins=50,density=True);\n",
    "plt.title('Histograma Asistencia')\n",
    "plt.savefig('asis.png')\n",
    "plt.show();"
   ]
  },
  {
   "cell_type": "code",
   "execution_count": 11,
   "metadata": {},
   "outputs": [],
   "source": [
    "nombres=[\"TMI\", \"asistesc_5_a_24\", \"tpobc_FARC\", \"tpobc_ELN\", \"tpobc_DESC\", \"tpobc_AUC\"]\n",
    "máximo=[BaseTotal.TMI.max(),BaseTotal.asistesc_5_a_24.max(),BaseTotal.tpobc_FARC.max(),BaseTotal.tpobc_ELN.max(), BaseTotal.tpobc_DESC.max(), BaseTotal.tpobc_AUC.max()]\n",
    "mínimo=[BaseTotal.TMI.min(), BaseTotal.asistesc_5_a_24.min(), BaseTotal.tpobc_FARC.min(), BaseTotal.tpobc_ELN.min(), BaseTotal.tpobc_DESC.min(), BaseTotal.tpobc_AUC.min()]\n",
    "promedio=[BaseTotal.TMI.mean(), BaseTotal.asistesc_5_a_24.mean(), BaseTotal.tpobc_FARC.mean(), BaseTotal.tpobc_ELN.mean(), BaseTotal.tpobc_DESC.mean(), BaseTotal.tpobc_AUC.mean()]\n",
    "desv=[BaseTotal.TMI.std(), BaseTotal.asistesc_5_a_24.std(), BaseTotal.tpobc_FARC.std(), BaseTotal.tpobc_ELN.std(), BaseTotal.tpobc_DESC.std(), BaseTotal.tpobc_AUC.std()]"
   ]
  },
  {
   "cell_type": "code",
   "execution_count": 12,
   "metadata": {},
   "outputs": [
    {
     "data": {
      "text/html": [
       "<div>\n",
       "<style scoped>\n",
       "    .dataframe tbody tr th:only-of-type {\n",
       "        vertical-align: middle;\n",
       "    }\n",
       "\n",
       "    .dataframe tbody tr th {\n",
       "        vertical-align: top;\n",
       "    }\n",
       "\n",
       "    .dataframe thead th {\n",
       "        text-align: right;\n",
       "    }\n",
       "</style>\n",
       "<table border=\"1\" class=\"dataframe\">\n",
       "  <thead>\n",
       "    <tr style=\"text-align: right;\">\n",
       "      <th></th>\n",
       "      <th>Máximo</th>\n",
       "      <th>Mínimo</th>\n",
       "      <th>Promedio</th>\n",
       "      <th>Desviación Estándar</th>\n",
       "    </tr>\n",
       "    <tr>\n",
       "      <th>Variables</th>\n",
       "      <th></th>\n",
       "      <th></th>\n",
       "      <th></th>\n",
       "      <th></th>\n",
       "    </tr>\n",
       "  </thead>\n",
       "  <tbody>\n",
       "    <tr>\n",
       "      <th>TMI</th>\n",
       "      <td>91.970000</td>\n",
       "      <td>7.840000</td>\n",
       "      <td>24.404225</td>\n",
       "      <td>9.982458</td>\n",
       "    </tr>\n",
       "    <tr>\n",
       "      <th>asistesc_5_a_24</th>\n",
       "      <td>79.609177</td>\n",
       "      <td>1.298701</td>\n",
       "      <td>60.938477</td>\n",
       "      <td>8.304959</td>\n",
       "    </tr>\n",
       "    <tr>\n",
       "      <th>tpobc_FARC</th>\n",
       "      <td>13.000000</td>\n",
       "      <td>0.000000</td>\n",
       "      <td>0.355993</td>\n",
       "      <td>1.034895</td>\n",
       "    </tr>\n",
       "    <tr>\n",
       "      <th>tpobc_ELN</th>\n",
       "      <td>5.000000</td>\n",
       "      <td>0.000000</td>\n",
       "      <td>0.079606</td>\n",
       "      <td>0.396849</td>\n",
       "    </tr>\n",
       "    <tr>\n",
       "      <th>tpobc_DESC</th>\n",
       "      <td>270.000000</td>\n",
       "      <td>0.000000</td>\n",
       "      <td>2.908766</td>\n",
       "      <td>12.899123</td>\n",
       "    </tr>\n",
       "    <tr>\n",
       "      <th>tpobc_AUC</th>\n",
       "      <td>6.000000</td>\n",
       "      <td>0.000000</td>\n",
       "      <td>0.111807</td>\n",
       "      <td>0.490760</td>\n",
       "    </tr>\n",
       "  </tbody>\n",
       "</table>\n",
       "</div>"
      ],
      "text/plain": [
       "                     Máximo    Mínimo   Promedio  Desviación Estándar\n",
       "Variables                                                            \n",
       "TMI               91.970000  7.840000  24.404225             9.982458\n",
       "asistesc_5_a_24   79.609177  1.298701  60.938477             8.304959\n",
       "tpobc_FARC        13.000000  0.000000   0.355993             1.034895\n",
       "tpobc_ELN          5.000000  0.000000   0.079606             0.396849\n",
       "tpobc_DESC       270.000000  0.000000   2.908766            12.899123\n",
       "tpobc_AUC          6.000000  0.000000   0.111807             0.490760"
      ]
     },
     "execution_count": 12,
     "metadata": {},
     "output_type": "execute_result"
    }
   ],
   "source": [
    "diccionario={\"Variables\": nombres,\"Máximo\":máximo, \"Mínimo\":mínimo, \"Promedio\":promedio, \"Desviación Estándar\":desv}\n",
    "estad=pd.DataFrame(diccionario)\n",
    "estad.set_index(\"Variables\", inplace=True)\n",
    "estad"
   ]
  },
  {
   "cell_type": "markdown",
   "metadata": {},
   "source": [
    "### 2. Regresión "
   ]
  },
  {
   "cell_type": "markdown",
   "metadata": {},
   "source": [
    "### MCO"
   ]
  },
  {
   "cell_type": "markdown",
   "metadata": {},
   "source": [
    "¿Cómo la salud afecta a la educación?"
   ]
  },
  {
   "cell_type": "markdown",
   "metadata": {},
   "source": [
    "Se estudiará como variable proxy de la salud la tasa de mortalidad y para la educación se usará el porcentaje de asistencia a clases."
   ]
  },
  {
   "cell_type": "code",
   "execution_count": 13,
   "metadata": {},
   "outputs": [
    {
     "name": "stdout",
     "output_type": "stream",
     "text": [
      "                            OLS Regression Results                            \n",
      "==============================================================================\n",
      "Dep. Variable:        asistesc_5_a_24   R-squared:                       0.197\n",
      "Model:                            OLS   Adj. R-squared:                  0.196\n",
      "Method:                 Least Squares   F-statistic:                     251.6\n",
      "Date:                Mon, 07 Jun 2021   Prob (F-statistic):           7.40e-51\n",
      "Time:                        13:19:15   Log-Likelihood:                -3528.6\n",
      "No. Observations:                1030   AIC:                             7061.\n",
      "Df Residuals:                    1028   BIC:                             7071.\n",
      "Df Model:                           1                                         \n",
      "Covariance Type:            nonrobust                                         \n",
      "==============================================================================\n",
      "                 coef    std err          t      P>|t|      [0.025      0.975]\n",
      "------------------------------------------------------------------------------\n",
      "Intercept     71.6974      0.717    100.019      0.000      70.291      73.104\n",
      "TMI           -0.4651      0.029    -15.863      0.000      -0.523      -0.408\n",
      "==============================================================================\n",
      "Omnibus:                      267.494   Durbin-Watson:                   1.472\n",
      "Prob(Omnibus):                  0.000   Jarque-Bera (JB):             1190.452\n",
      "Skew:                          -1.145   Prob(JB):                    3.14e-259\n",
      "Kurtosis:                       7.743   Cond. No.                         75.6\n",
      "==============================================================================\n",
      "\n",
      "Notes:\n",
      "[1] Standard Errors assume that the covariance matrix of the errors is correctly specified.\n"
     ]
    }
   ],
   "source": [
    "formula = 'asistesc_5_a_24 ~ TMI'\n",
    "y,X = patsy.dmatrices(formula, BaseTotal, return_type='matrix')\n",
    "modelo = sm.OLS(y,X)\n",
    "resultado = modelo.fit()\n",
    "print(resultado.summary())"
   ]
  },
  {
   "cell_type": "code",
   "execution_count": 14,
   "metadata": {},
   "outputs": [],
   "source": [
    "mco=resultado.summary2()\n",
    "mco1=mco.tables[1]\n",
    "mco2=mco.tables[0]"
   ]
  },
  {
   "cell_type": "code",
   "execution_count": 16,
   "metadata": {},
   "outputs": [
    {
     "data": {
      "image/png": "[encoded data removed]",
      "text/plain": [
       "<Figure size 720x432 with 1 Axes>"
      ]
     },
     "metadata": {
      "needs_background": "light"
     },
     "output_type": "display_data"
    }
   ],
   "source": [
    "plt.figure(figsize=(10,6))\n",
    "plt.scatter(X[:,1],y)\n",
    "plt.plot(X[:,1], resultado.predict(X), c='r')\n",
    "plt.savefig(\"r_mco.png\")\n",
    "plt.show()"
   ]
  },
  {
   "cell_type": "markdown",
   "metadata": {},
   "source": [
    "Resultado: Tendencia negativa, la tasa de mortalidad tiene una relación negativa con la asistencia a las clases. La salud sí llega a ser un componente al cual tenemos que estar pendiente, pues puede afectar a la asistencia en clases a una comunidad. El nivel de educación puede verse perjudicado. "
   ]
  },
  {
   "cell_type": "markdown",
   "metadata": {},
   "source": [
    "### Logit"
   ]
  },
  {
   "cell_type": "markdown",
   "metadata": {},
   "source": [
    "Para este modelo se quiere estudiar cuando hay mayor o menor probabilidad de que la asistencia a clases sea mayor al promedio dependiente del nivel de ataques hacia la comunidad(nivel de violencia). Para esto se creo una variable dummy, 1= mayor al promedio 0= menor al promedio, y además se está utilizando las variables que cuantifican los ataques hacia la comunidad ya sea de ELN, FARC, DESC( desconocidos) y AUC. "
   ]
  },
  {
   "cell_type": "code",
   "execution_count": 18,
   "metadata": {},
   "outputs": [],
   "source": [
    "#Se crea la variable Dummy 1= arriba del promedio 0=abajo de promedio\n",
    "\n",
    "BaseTotal[\"educ\"]=1\n",
    "BaseTotal.loc[BaseTotal.asistesc_5_a_24<BaseTotal.asistesc_5_a_24.mean(), \"educ\"]=0"
   ]
  },
  {
   "cell_type": "code",
   "execution_count": 19,
   "metadata": {},
   "outputs": [],
   "source": [
    "formula2 = 'educ ~ tpobc_FARC + tpobc_ELN + tpobc_DESC + tpobc_AUC'\n",
    "w,Z = patsy.dmatrices(formula2, BaseTotal)"
   ]
  },
  {
   "cell_type": "code",
   "execution_count": 20,
   "metadata": {},
   "outputs": [
    {
     "name": "stdout",
     "output_type": "stream",
     "text": [
      "Optimization terminated successfully.\n",
      "         Current function value: 0.643640\n",
      "         Iterations 7\n",
      "                           Logit Regression Results                           \n",
      "==============================================================================\n",
      "Dep. Variable:                   educ   No. Observations:                 1118\n",
      "Model:                          Logit   Df Residuals:                     1113\n",
      "Method:                           MLE   Df Model:                            4\n",
      "Date:                Mon, 07 Jun 2021   Pseudo R-squ.:                 0.03458\n",
      "Time:                        13:27:30   Log-Likelihood:                -719.59\n",
      "converged:                       True   LL-Null:                       -745.37\n",
      "Covariance Type:            nonrobust   LLR p-value:                 1.709e-10\n",
      "==============================================================================\n",
      "                 coef    std err          z      P>|z|      [0.025      0.975]\n",
      "------------------------------------------------------------------------------\n",
      "Intercept      0.4300      0.069      6.259      0.000       0.295       0.565\n",
      "tpobc_FARC    -0.3729      0.075     -4.981      0.000      -0.520      -0.226\n",
      "tpobc_ELN     -0.3078      0.182     -1.694      0.090      -0.664       0.048\n",
      "tpobc_DESC     0.0944      0.022      4.381      0.000       0.052       0.137\n",
      "tpobc_AUC      0.1828      0.173      1.056      0.291      -0.157       0.522\n",
      "==============================================================================\n"
     ]
    }
   ],
   "source": [
    "modelo_logit = sm.Logit(w, Z)\n",
    "resultado_logit = modelo_logit.fit()\n",
    "print(resultado_logit.summary())"
   ]
  },
  {
   "cell_type": "code",
   "execution_count": 22,
   "metadata": {},
   "outputs": [
    {
     "name": "stdout",
     "output_type": "stream",
     "text": [
      "        Logit Marginal Effects       \n",
      "=====================================\n",
      "Dep. Variable:                   educ\n",
      "Method:                          dydx\n",
      "At:                           overall\n",
      "==============================================================================\n",
      "                dy/dx    std err          z      P>|z|      [0.025      0.975]\n",
      "------------------------------------------------------------------------------\n",
      "tpobc_FARC    -0.0848      0.016     -5.191      0.000      -0.117      -0.053\n",
      "tpobc_ELN     -0.0700      0.041     -1.701      0.089      -0.151       0.011\n",
      "tpobc_DESC     0.0215      0.005      4.505      0.000       0.012       0.031\n",
      "tpobc_AUC      0.0415      0.039      1.058      0.290      -0.035       0.119\n",
      "==============================================================================\n"
     ]
    }
   ],
   "source": [
    "print(resultado_logit.get_margeff().summary())"
   ]
  },
  {
   "cell_type": "markdown",
   "metadata": {},
   "source": [
    "Resultado: No todos los resultados son significativos, pero se puede ver como la probabilidad de estar encima del promedio baja cuando hay ataques de parte de las FARC O DE ELN"
   ]
  },
  {
   "cell_type": "code",
   "execution_count": 21,
   "metadata": {},
   "outputs": [],
   "source": [
    "logit=resultado_logit.summary2()\n",
    "logit1=logit.tables[1]\n",
    "logit2=logit.tables[0]"
   ]
  },
  {
   "cell_type": "markdown",
   "metadata": {},
   "source": [
    "### 3. Diagramación en Excel"
   ]
  },
  {
   "cell_type": "markdown",
   "metadata": {},
   "source": [
    "### Hoja 1"
   ]
  },
  {
   "cell_type": "code",
   "execution_count": 23,
   "metadata": {},
   "outputs": [],
   "source": [
    "writer = pd.ExcelWriter('Estimacion.xlsx',\n",
    "                        engine='xlsxwriter')\n",
    "\n",
    "workbook=writer.book"
   ]
  },
  {
   "cell_type": "code",
   "execution_count": 24,
   "metadata": {},
   "outputs": [
    {
     "data": {
      "text/html": [
       "<div>\n",
       "<style scoped>\n",
       "    .dataframe tbody tr th:only-of-type {\n",
       "        vertical-align: middle;\n",
       "    }\n",
       "\n",
       "    .dataframe tbody tr th {\n",
       "        vertical-align: top;\n",
       "    }\n",
       "\n",
       "    .dataframe thead th {\n",
       "        text-align: right;\n",
       "    }\n",
       "</style>\n",
       "<table border=\"1\" class=\"dataframe\">\n",
       "  <thead>\n",
       "    <tr style=\"text-align: right;\">\n",
       "      <th></th>\n",
       "      <th>Máximo</th>\n",
       "      <th>Mínimo</th>\n",
       "      <th>Promedio</th>\n",
       "      <th>Desviación Estándar</th>\n",
       "    </tr>\n",
       "    <tr>\n",
       "      <th>Variables</th>\n",
       "      <th></th>\n",
       "      <th></th>\n",
       "      <th></th>\n",
       "      <th></th>\n",
       "    </tr>\n",
       "  </thead>\n",
       "  <tbody>\n",
       "    <tr>\n",
       "      <th>TMI</th>\n",
       "      <td>91.970000</td>\n",
       "      <td>7.840000</td>\n",
       "      <td>24.404225</td>\n",
       "      <td>9.982458</td>\n",
       "    </tr>\n",
       "    <tr>\n",
       "      <th>asistesc_5_a_24</th>\n",
       "      <td>79.609177</td>\n",
       "      <td>1.298701</td>\n",
       "      <td>60.938477</td>\n",
       "      <td>8.304959</td>\n",
       "    </tr>\n",
       "    <tr>\n",
       "      <th>tpobc_FARC</th>\n",
       "      <td>13.000000</td>\n",
       "      <td>0.000000</td>\n",
       "      <td>0.355993</td>\n",
       "      <td>1.034895</td>\n",
       "    </tr>\n",
       "    <tr>\n",
       "      <th>tpobc_ELN</th>\n",
       "      <td>5.000000</td>\n",
       "      <td>0.000000</td>\n",
       "      <td>0.079606</td>\n",
       "      <td>0.396849</td>\n",
       "    </tr>\n",
       "    <tr>\n",
       "      <th>tpobc_DESC</th>\n",
       "      <td>270.000000</td>\n",
       "      <td>0.000000</td>\n",
       "      <td>2.908766</td>\n",
       "      <td>12.899123</td>\n",
       "    </tr>\n",
       "    <tr>\n",
       "      <th>tpobc_AUC</th>\n",
       "      <td>6.000000</td>\n",
       "      <td>0.000000</td>\n",
       "      <td>0.111807</td>\n",
       "      <td>0.490760</td>\n",
       "    </tr>\n",
       "  </tbody>\n",
       "</table>\n",
       "</div>"
      ],
      "text/plain": [
       "                     Máximo    Mínimo   Promedio  Desviación Estándar\n",
       "Variables                                                            \n",
       "TMI               91.970000  7.840000  24.404225             9.982458\n",
       "asistesc_5_a_24   79.609177  1.298701  60.938477             8.304959\n",
       "tpobc_FARC        13.000000  0.000000   0.355993             1.034895\n",
       "tpobc_ELN          5.000000  0.000000   0.079606             0.396849\n",
       "tpobc_DESC       270.000000  0.000000   2.908766            12.899123\n",
       "tpobc_AUC          6.000000  0.000000   0.111807             0.490760"
      ]
     },
     "execution_count": 24,
     "metadata": {},
     "output_type": "execute_result"
    }
   ],
   "source": [
    "estad"
   ]
  },
  {
   "cell_type": "code",
   "execution_count": 25,
   "metadata": {},
   "outputs": [],
   "source": [
    "estad.to_excel(writer,\n",
    "            sheet_name='E. Descriptivas',\n",
    "            header=True,\n",
    "            index=True,\n",
    "            startrow=2,\n",
    "            startcol=0)"
   ]
  },
  {
   "cell_type": "code",
   "execution_count": 26,
   "metadata": {},
   "outputs": [],
   "source": [
    "encabezado=workbook.add_format({'bold':True,\n",
    "                               'text_wrap':True,\n",
    "                               'font_size':15,\n",
    "                               'font_color':'green',\n",
    "                               'align':'center',\n",
    "                               'valign':'vcenter',\n",
    "                               'fg_color':'#153261',\n",
    "                               'border':1})"
   ]
  },
  {
   "cell_type": "code",
   "execution_count": 27,
   "metadata": {},
   "outputs": [],
   "source": [
    "hoja=writer.sheets['E. Descriptivas']"
   ]
  },
  {
   "cell_type": "code",
   "execution_count": 28,
   "metadata": {},
   "outputs": [],
   "source": [
    "hoja.merge_range('A1:M1','Estadisticas Descriptivas', encabezado)"
   ]
  },
  {
   "cell_type": "code",
   "execution_count": 29,
   "metadata": {},
   "outputs": [],
   "source": [
    "hoja.insert_image(2,5,'tmi.png')\n",
    "hoja.insert_image(20,5,'asis.png')"
   ]
  },
  {
   "cell_type": "markdown",
   "metadata": {},
   "source": [
    "### Hoja 2"
   ]
  },
  {
   "cell_type": "code",
   "execution_count": 30,
   "metadata": {},
   "outputs": [],
   "source": [
    "mco1.to_excel(writer,\n",
    "            sheet_name='MCO',\n",
    "            header=True,\n",
    "            index=True,\n",
    "            startrow=1)"
   ]
  },
  {
   "cell_type": "code",
   "execution_count": 31,
   "metadata": {},
   "outputs": [],
   "source": [
    "hoja2=writer.sheets['MCO']"
   ]
  },
  {
   "cell_type": "code",
   "execution_count": 32,
   "metadata": {},
   "outputs": [],
   "source": [
    "encabezado2=workbook.add_format({'bold':True,\n",
    "                               'text_wrap':True,\n",
    "                               'font_size':15,\n",
    "                               'font_color':'snow',\n",
    "                               'align':'center',\n",
    "                               'valign':'vcenter',\n",
    "                               'fg_color':'#153261',\n",
    "                               'border':1})"
   ]
  },
  {
   "cell_type": "code",
   "execution_count": 33,
   "metadata": {},
   "outputs": [],
   "source": [
    "hoja2.merge_range('A1:M1','Estimación MCO', encabezado2)"
   ]
  },
  {
   "cell_type": "code",
   "execution_count": 34,
   "metadata": {},
   "outputs": [],
   "source": [
    "mco2.to_excel(writer, sheet_name='MCO', startrow=6)"
   ]
  },
  {
   "cell_type": "code",
   "execution_count": 35,
   "metadata": {},
   "outputs": [],
   "source": [
    "hoja2.insert_image(7,5,'r_mco.png')"
   ]
  },
  {
   "cell_type": "markdown",
   "metadata": {},
   "source": [
    "### Hoja 3"
   ]
  },
  {
   "cell_type": "code",
   "execution_count": 36,
   "metadata": {},
   "outputs": [],
   "source": [
    "logit1.to_excel(writer,\n",
    "            sheet_name='Logit',\n",
    "            header=True,\n",
    "            index=True,\n",
    "            startrow=1)"
   ]
  },
  {
   "cell_type": "code",
   "execution_count": 37,
   "metadata": {},
   "outputs": [],
   "source": [
    "hoja3=writer.sheets['Logit']"
   ]
  },
  {
   "cell_type": "code",
   "execution_count": 38,
   "metadata": {},
   "outputs": [],
   "source": [
    "encabezado3=workbook.add_format({'bold':True,\n",
    "                               'text_wrap':True,\n",
    "                               'font_size':15,\n",
    "                               'font_color':'orangered',\n",
    "                               'align':'center',\n",
    "                               'valign':'vcenter',\n",
    "                               'fg_color':'#153261',\n",
    "                               'border':1})\n",
    "\n",
    "hoja3.merge_range('A1:M1','Estimación Logit', encabezado3)"
   ]
  },
  {
   "cell_type": "code",
   "execution_count": 39,
   "metadata": {},
   "outputs": [],
   "source": [
    "logit2.to_excel(writer, sheet_name='Logit', startrow=10)"
   ]
  },
  {
   "cell_type": "code",
   "execution_count": 40,
   "metadata": {},
   "outputs": [],
   "source": [
    "writer.save()"
   ]
  }
 ],
 "metadata": {
  "kernelspec": {
   "display_name": "Python 3",
   "language": "python",
   "name": "python3"
  },
  "language_info": {
   "codemirror_mode": {
    "name": "ipython",
    "version": 3
   },
   "file_extension": ".py",
   "mimetype": "text/x-python",
   "name": "python",
   "nbconvert_exporter": "python",
   "pygments_lexer": "ipython3",
   "version": "3.8.5"
  }
 },
 "nbformat": 4,
 "nbformat_minor": 4
}
